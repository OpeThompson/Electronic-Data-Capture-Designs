{
 "cells": [
  {
   "cell_type": "code",
   "execution_count": null,
   "id": "7c9a7cff",
   "metadata": {},
   "outputs": [],
   "source": [
    "#Sleep Latency Grade\n",
    "\n",
    "if([psqi_sleep_latency] <= 15, 0, if([psqi_sleep_latency] <= 30, 1, if([psqi_sleep_latency] <= 60, 2, if([psqi_sleep_latency] > 60, 3, \"\"))))"
   ]
  },
  {
   "cell_type": "code",
   "execution_count": null,
   "id": "d803a497",
   "metadata": {},
   "outputs": [],
   "source": [
    "#Sleep Latency Score\n",
    "\n",
    "if(([psqi_trouble_sleep_1] + [psqi_sleep_latency_grade]) = 0, 0, if(([psqi_trouble_sleep_1] + [psqi_sleep_latency_grade]) > 0 and ([psqi_trouble_sleep_1] + [psqi_sleep_latency_grade]) <= 2, 1, if(([psqi_trouble_sleep_1] + [psqi_sleep_latency_grade]) > 2 and ([psqi_trouble_sleep_1] + [psqi_sleep_latency_grade]) <= 4, 2, if(([psqi_trouble_sleep_1] + [psqi_sleep_latency_grade]) > 4 and ([psqi_trouble_sleep_1] + [psqi_sleep_latency_grade]) <= 6, 3, \"\"))))"
   ]
  },
  {
   "cell_type": "code",
   "execution_count": null,
   "id": "65748ae4",
   "metadata": {},
   "outputs": [],
   "source": [
    "#Sleep Hours Score\n",
    "if([psqi_sleep_hours] >= 7, 0, if([psqi_sleep_hours] >= 6, 1, if([psqi_sleep_hours] >= 5, 2, if([psqi_sleep_hours] < 5, 3, \"\"))))"
   ]
  },
  {
   "cell_type": "code",
   "execution_count": null,
   "id": "bcb0abe3",
   "metadata": {},
   "outputs": [],
   "source": [
    "#Sleep Efficiency Score\n",
    "if([sleep_efficiency] > 85, 0, if([sleep_efficiency] > 75 and [sleep_efficiency] <= 85, 1, if([sleep_efficiency] > 65 and [sleep_efficiency] <= 75, 2, if([sleep_efficiency] <= 65, 3, \"\"))))"
   ]
  },
  {
   "cell_type": "code",
   "execution_count": null,
   "id": "3ff1f92f",
   "metadata": {},
   "outputs": [],
   "source": [
    "#Sleep Disturbance Total\n",
    "[psqi_trouble_sleep_2] + [psqi_trouble_sleep_3] + [psqi_trouble_sleep_4] + [psqi_trouble_sleep_5] + [psqi_trouble_sleep_6] + [psqi_trouble_sleep_7] + [psqi_trouble_sleep_8] + [psqi_trouble_sleep_9] + [psqi_trouble_sleep_10]"
   ]
  },
  {
   "cell_type": "code",
   "execution_count": null,
   "id": "3f30abfb",
   "metadata": {},
   "outputs": [],
   "source": [
    "#Daytime Dysfunction Score\n",
    "Calculation:\tif(([psqi_awake_dysfunction] + [psqi_enthusiasm]) = 0, 0, if(([psqi_awake_dysfunction] + [psqi_enthusiasm]) >= 1 and ([psqi_awake_dysfunction] + [psqi_enthusiasm]) < 3, 1, if(([psqi_awake_dysfunction] + [psqi_enthusiasm]) >= 3 and ([psqi_awake_dysfunction] + [psqi_enthusiasm]) < 5, 2, if(([psqi_awake_dysfunction] + [psqi_enthusiasm]) >= 5 and ([psqi_awake_dysfunction] + [psqi_enthusiasm]) < 7, 3, \"\"))))"
   ]
  }
 ],
 "metadata": {
  "kernelspec": {
   "display_name": "Python 3 (ipykernel)",
   "language": "python",
   "name": "python3"
  },
  "language_info": {
   "codemirror_mode": {
    "name": "ipython",
    "version": 3
   },
   "file_extension": ".py",
   "mimetype": "text/x-python",
   "name": "python",
   "nbconvert_exporter": "python",
   "pygments_lexer": "ipython3",
   "version": "3.9.13"
  }
 },
 "nbformat": 4,
 "nbformat_minor": 5
}
