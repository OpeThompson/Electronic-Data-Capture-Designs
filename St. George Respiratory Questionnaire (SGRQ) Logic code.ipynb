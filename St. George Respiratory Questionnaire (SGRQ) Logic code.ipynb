{
 "cells": [
  {
   "cell_type": "code",
   "execution_count": null,
   "id": "2a12aa47",
   "metadata": {},
   "outputs": [],
   "source": [
    "#Q1 Weighted\n",
    "#Over the last year, I have coughed: Weighted Score\n",
    "if([cough_frequency_sgrq] = 1, 80.6, if([cough_frequency_sgrq] = 2, 63.2, if([cough_frequency_sgrq] = 3, 29.3, if([cough_frequency_sgrq] = 4, 28.1, 0))))"
   ]
  },
  {
   "cell_type": "code",
   "execution_count": null,
   "id": "9c4d5e26",
   "metadata": {},
   "outputs": [],
   "source": [
    "#Q2\n",
    "#Over the last year, I have brought up phlegm (sputum): Weighted Score\n",
    "if([phlegm_frequency] = 1, 76.8, if([phlegm_frequency] = 2, 60.0, if([phlegm_frequency] = 3, 34.0, if([phlegm_frequency] = 4, 30.2, 0))))\n"
   ]
  },
  {
   "cell_type": "code",
   "execution_count": null,
   "id": "2d3d7cee",
   "metadata": {},
   "outputs": [],
   "source": [
    "#Q3\n",
    "#Over the last year, I have had shortness of breath: (weighted score)\n",
    "if([breathlessness_frequency] = 1, 87.2, if([breathlessness_frequency] = 2, 71.4, if([breathlessness_frequency] = 3, 43.7, if([breathlessness_frequency] = 4, 35.7, 0))))"
   ]
  },
  {
   "cell_type": "code",
   "execution_count": null,
   "id": "de113792",
   "metadata": {},
   "outputs": [],
   "source": [
    "#Q4\n",
    "#Over the last year, I have had attacks of wheezing: (weighted score)\n",
    "if([wheezing_frequency] = 1, 86.2, if([wheezing_frequency] = 2, 71.0, if([wheezing_frequency] = 3, 45.6, if([wheezing_frequency] = 4, 36.4, 0))))\n"
   ]
  },
  {
   "cell_type": "code",
   "execution_count": null,
   "id": "deaf3725",
   "metadata": {},
   "outputs": [],
   "source": [
    "#Q5\n",
    "#During the last year, how many severe or unpleasant attacks of chest trouble have you had? (Weighted Score)\n",
    "if([severe_chest_attacks] = 1, 86.7, if([severe_chest_attacks] = 2, 73.5, if([severe_chest_attacks] = 3, 60.3, if([severe_chest_attacks] = 4, 44.2, 0))))"
   ]
  },
  {
   "cell_type": "code",
   "execution_count": null,
   "id": "804c51b1",
   "metadata": {},
   "outputs": [],
   "source": [
    "#Q6\n",
    "#How long did the worst attack of chest trouble last? (Weighted Score)\n",
    "if([worst_attack_duration] = 1, 89.7, if([worst_attack_duration] = 2, 73.5, if([worst_attack_duration] = 3, 58.8, if([worst_attack_duration] = 4, 41.9, 0))))"
   ]
  },
  {
   "cell_type": "code",
   "execution_count": null,
   "id": "f6f81df2",
   "metadata": {},
   "outputs": [],
   "source": [
    "#Q7\n",
    "#Over the last year, in an average week, how many good days (with little chest trouble) have you had? (Weighted Score)\n",
    "if([good_days_frequency] = 1, 93.3, if([good_days_frequency] = 2, 76.6, if([good_days_frequency] = 3, 61.5, if([good_days_frequency] = 4, 15.4, 0))))"
   ]
  },
  {
   "cell_type": "code",
   "execution_count": null,
   "id": "ec23fe31",
   "metadata": {},
   "outputs": [],
   "source": [
    "#Q8\n",
    "#If you have a wheeze, is it worse in the morning? (weighted score)\n",
    "if([wheeze_morning] = 1, 62, if([wheeze_morning] = 2, 0, 0))\n"
   ]
  },
  {
   "cell_type": "code",
   "execution_count": null,
   "id": "28d87a0b",
   "metadata": {},
   "outputs": [],
   "source": [
    "#Q9\n",
    "#How would you describe your chest condition? (Weighted Score)\n",
    "if([chest_condition_importance] = 1, 83.2, if([chest_condition_importance] = 2, 82.5, if([chest_condition_importance] = 3, 34.6, if([chest_condition_importance] = 4, 0, 0))))"
   ]
  },
  {
   "cell_type": "code",
   "execution_count": null,
   "id": "bf2fe2ae",
   "metadata": {},
   "outputs": [],
   "source": [
    "#Q10\n",
    "#Impact of chest trouble on employment (Weighted Score)\n",
    "if([employment_impact] = 1, 88.9, if([employment_impact] = 2, 77.6, if([employment_impact] = 3, 0, 0)))"
   ]
  },
  {
   "cell_type": "code",
   "execution_count": null,
   "id": "c9fc36fa",
   "metadata": {},
   "outputs": [],
   "source": [
    "#Q11a\n",
    "#Sitting or lying still makes me breathless (Weighted Score)\n",
    "if([breathless_sitting_still] = 1, 90.6, if([breathless_sitting_still] = 2, 0, 0))"
   ]
  },
  {
   "cell_type": "code",
   "execution_count": null,
   "id": "c8d31461",
   "metadata": {},
   "outputs": [],
   "source": [
    "#Q11b\n",
    "#Getting washed or dressed makes me breathless (Weighted Score)\n",
    "if([breathless_getting_dressed] = 1, 82.8, if([breathless_getting_dressed] = 2, 0, 0))\n"
   ]
  },
  {
   "cell_type": "code",
   "execution_count": null,
   "id": "f1a1a8ad",
   "metadata": {},
   "outputs": [],
   "source": [
    "#Q11c\n",
    "#Walking around the home makes me breathless (Weighted Score)\n",
    "if([breathless_walking_home] = 1, 80.2, if([breathless_walking_home] = 2, 0, 0))"
   ]
  },
  {
   "cell_type": "code",
   "execution_count": null,
   "id": "974d2140",
   "metadata": {},
   "outputs": [],
   "source": [
    "#Q11d\n",
    "#Walking outside on the level makes me breathless (Weighted Score)\n",
    "if([breathless_walking_outside] = 1, 81.4, if([breathless_walking_outside] = 2, 0, 0))"
   ]
  },
  {
   "cell_type": "code",
   "execution_count": null,
   "id": "dc35da68",
   "metadata": {},
   "outputs": [],
   "source": [
    "#Q11e\n",
    "#Walking up a flight of stairs makes me breathless (Weighted Score)\n",
    "if([breathless_stairs] = 1, 76.1, if([breathless_stairs] = 2, 0, 0))"
   ]
  },
  {
   "cell_type": "code",
   "execution_count": null,
   "id": "0c173a19",
   "metadata": {},
   "outputs": [],
   "source": [
    "#Q11f\n",
    "#Walking up hills makes me breathless (Weighted Score)\n",
    "if([breathless_hills] = 1, 75.1, if([breathless_hills] = 2, 0, 0))"
   ]
  },
  {
   "cell_type": "code",
   "execution_count": null,
   "id": "29923c4b",
   "metadata": {},
   "outputs": [],
   "source": [
    "#Q11g\n",
    "#Playing sports or games makes me breathless (Weighted Scrore)\n",
    "if([breathless_sports] = 1, 72.1, if([breathless_sports] = 2, 0, 0))\n"
   ]
  },
  {
   "cell_type": "code",
   "execution_count": null,
   "id": "551fddc6",
   "metadata": {},
   "outputs": [],
   "source": [
    "#q11_weighted\n",
    "#Field Label:Total Weighted Score for Activities That Make You feel Breathless.\n",
    "[q11a_sitting_weighted] + [q11b_dressed_weighted] + [q11c_walk_home_weighted] + [q11d_walk_outside_weighted] + [q11e_walk_stairs_weighted] + [q11f_walk_hills_weighted] + [q11g_sports_weighted]"
   ]
  },
  {
   "cell_type": "code",
   "execution_count": null,
   "id": "9f21fbe5",
   "metadata": {},
   "outputs": [],
   "source": []
  }
 ],
 "metadata": {
  "kernelspec": {
   "display_name": "Python 3 (ipykernel)",
   "language": "python",
   "name": "python3"
  },
  "language_info": {
   "codemirror_mode": {
    "name": "ipython",
    "version": 3
   },
   "file_extension": ".py",
   "mimetype": "text/x-python",
   "name": "python",
   "nbconvert_exporter": "python",
   "pygments_lexer": "ipython3",
   "version": "3.9.13"
  }
 },
 "nbformat": 4,
 "nbformat_minor": 5
}
